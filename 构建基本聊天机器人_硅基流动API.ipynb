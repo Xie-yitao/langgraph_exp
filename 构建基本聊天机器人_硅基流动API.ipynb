{
 "cells": [
  {
   "cell_type": "markdown",
   "metadata": {},
   "source": [
    "# 构建基本聊天机器人"
   ]
  },
  {
   "cell_type": "markdown",
   "metadata": {},
   "source": [
    "### 安装所需的软件包并配置您的环境"
   ]
  },
  {
   "cell_type": "code",
   "execution_count": 24,
   "metadata": {},
   "outputs": [],
   "source": [
    "# %%capture --no-stderr\n",
    "# %pip install -U langgraph langsmith langchain_anthropic"
   ]
  },
  {
   "cell_type": "markdown",
   "metadata": {},
   "source": [
    "首先创建一个StateGraph。StateGraph对象将我们的聊天机器人的结构定义为“状态机”。我们将添加nodes以表示我们的聊天机器人可以调用的 llm 和函数，并edges指定机器人应如何在这些函数之间转换。"
   ]
  },
  {
   "cell_type": "markdown",
   "metadata": {},
   "source": [
    "我们的图表现在可以处理两个关键任务：\n",
    "\n",
    "1、每个都node可以接收当前State作为输入并输出状态更新。\n",
    "\n",
    "2、messages由于语法add_messages中使用了预建函数，更新将被附加到现有列表而不是覆盖它。Annotated"
   ]
  },
  {
   "cell_type": "code",
   "execution_count": 25,
   "metadata": {},
   "outputs": [],
   "source": [
    "from typing import Annotated\n",
    "\n",
    "from typing_extensions import TypedDict\n",
    "\n",
    "from langgraph.graph import StateGraph, START, END\n",
    "from langgraph.graph.message import add_messages\n",
    "\n",
    "\n",
    "class State(TypedDict):\n",
    "    # Messages have the type \"list\". The `add_messages` function\n",
    "    # in the annotation defines how this state key should be updated\n",
    "    # (in this case, it appends messages to the list, rather than overwriting them)\n",
    "    messages: Annotated[list, add_messages]\n",
    "\n",
    "\n",
    "graph_builder = StateGraph(State)"
   ]
  },
  {
   "cell_type": "markdown",
   "metadata": {},
   "source": [
    "接下来，添加一个“ chatbot”节点。节点代表工作单元。它们通常是常规的 Python 函数。"
   ]
  },
  {
   "cell_type": "markdown",
   "metadata": {},
   "source": [
    "**注意**\n",
    "节点函数如何chatbot将当前State作为输入并返回一个包含messages键“messages”下更新列表的字典。这是所有 LangGraph 节点函数的基本模式。\n",
    "\n",
    "add_messages我们的函数会将Statellm 的响应消息附加到状态中已有的任何消息中。"
   ]
  },
  {
   "cell_type": "code",
   "execution_count": 26,
   "metadata": {},
   "outputs": [
    {
     "name": "stdout",
     "output_type": "stream",
     "text": [
      "sk-iihecohtojjkbgwaqaoukdopasitiyneinjstosyadytfepl\n"
     ]
    },
    {
     "data": {
      "text/plain": [
       "<langgraph.graph.state.StateGraph at 0x26a367dfc80>"
      ]
     },
     "execution_count": 26,
     "metadata": {},
     "output_type": "execute_result"
    }
   ],
   "source": [
    "from typing import Annotated, Any\n",
    "from typing_extensions import TypedDict\n",
    "from langchain.schema.messages import HumanMessage\n",
    "import requests\n",
    "import os\n",
    "\n",
    "\n",
    "\n",
    "# 设置 SiliconFlow API 的 URL 和密钥\n",
    "SILICONFLOW_API_URL = \"https://api.siliconflow.cn/v1/chat/completions\"\n",
    "API_KEY = os.getenv(\"SILICONFLOW_API_KEY\", \"sk-iihecohtojjkbgwaqaoukdopasitiyneinjstosyadytfepl\")\n",
    "print(API_KEY)\n",
    "def convert_message(message: Any) -> dict:\n",
    "    \"\"\"将 LangChain 消息对象转换为普通字典\"\"\"\n",
    "    if isinstance(message, HumanMessage):\n",
    "        return {\"role\": \"user\", \"content\": message.content}\n",
    "    # 如果有其他消息类型，可以在这里添加转换逻辑\n",
    "    return message\n",
    "\n",
    "def chatbot(state: State):\n",
    "    # 从 State 中提取用户消息\n",
    "    messages = state[\"messages\"]\n",
    "    # 将消息转换为普通字典\n",
    "    converted_messages = [convert_message(msg) for msg in messages]\n",
    "    \n",
    "    # 构建请求 payload\n",
    "    payload = {\n",
    "        \"model\": \"Qwen/Qwen2.5-7B-Instruct\",\n",
    "        \"messages\": converted_messages,\n",
    "        \"stream\": False,\n",
    "        \"max_tokens\": 512,\n",
    "        \"temperature\": 0.7,\n",
    "        \"top_p\": 0.7,\n",
    "        \"top_k\": 50,\n",
    "        \"frequency_penalty\": 0.5,\n",
    "        \"response_format\": {\"type\": \"text\"}\n",
    "    }\n",
    "    \n",
    "    # 设置请求头\n",
    "    headers = {\n",
    "        \"Authorization\": f\"Bearer {API_KEY}\", #API\n",
    "        \"Content-Type\": \"application/json\"\n",
    "    }\n",
    "    \n",
    "    # 发送请求\n",
    "    try:\n",
    "        response = requests.post(SILICONFLOW_API_URL, json=payload, headers=headers)\n",
    "        response.raise_for_status()  # 检查请求是否成功\n",
    "        response_data = response.json()\n",
    "        \n",
    "        # 提取响应中的消息内容\n",
    "        if \"choices\" in response_data and len(response_data[\"choices\"]) > 0:\n",
    "            assistant_message = response_data[\"choices\"][0][\"message\"][\"content\"]\n",
    "            return {\"messages\": [{\"role\": \"assistant\", \"content\": assistant_message}]}\n",
    "        else:\n",
    "            return {\"messages\": [{\"role\": \"assistant\", \"content\": \"No response from SiliconFlow API\"}]}\n",
    "    \n",
    "    except Exception as e:\n",
    "        return {\"messages\": [{\"role\": \"assistant\", \"content\": f\"Error: {str(e)}\"}]}\n",
    "\n",
    "# 添加 chatbot 节点\n",
    "graph_builder.add_node(\"chatbot\", chatbot)"
   ]
  },
  {
   "cell_type": "markdown",
   "metadata": {},
   "source": [
    "接下来，添加一个entry点。这将告诉我们的图表每次运行时**从哪里开始工作。**"
   ]
  },
  {
   "cell_type": "code",
   "execution_count": 27,
   "metadata": {},
   "outputs": [
    {
     "data": {
      "text/plain": [
       "<langgraph.graph.state.StateGraph at 0x26a367dfc80>"
      ]
     },
     "execution_count": 27,
     "metadata": {},
     "output_type": "execute_result"
    }
   ],
   "source": [
    "graph_builder.add_edge(START, \"chatbot\")"
   ]
  },
  {
   "cell_type": "markdown",
   "metadata": {},
   "source": [
    "同样，设置一个finish点。这将指示图表“任何时候运行此节点，您都可以退出。”"
   ]
  },
  {
   "cell_type": "code",
   "execution_count": 28,
   "metadata": {},
   "outputs": [
    {
     "data": {
      "text/plain": [
       "<langgraph.graph.state.StateGraph at 0x26a367dfc80>"
      ]
     },
     "execution_count": 28,
     "metadata": {},
     "output_type": "execute_result"
    }
   ],
   "source": [
    "graph_builder.add_edge(\"chatbot\", END)"
   ]
  },
  {
   "cell_type": "markdown",
   "metadata": {},
   "source": [
    "最后，我们希望能够运行我们的图表。为此，请compile()在图表构建器上调用“”。这将创建一个“ CompiledGraph”，我们可以在状态上使用“调用”。"
   ]
  },
  {
   "cell_type": "code",
   "execution_count": 29,
   "metadata": {},
   "outputs": [],
   "source": [
    "graph = graph_builder.compile()"
   ]
  },
  {
   "cell_type": "markdown",
   "metadata": {},
   "source": [
    "get_graph您可以使用方法和其中一种“绘制”方法（例如draw_ascii或）来可视化图形draw_png。draw每个方法都需要额外的依赖项。"
   ]
  },
  {
   "cell_type": "code",
   "execution_count": 30,
   "metadata": {},
   "outputs": [],
   "source": [
    "from IPython.display import Image, display\n",
    "\n",
    "try:\n",
    "    display(Image(graph.get_graph().draw_mermaid_png()))\n",
    "except Exception:\n",
    "    # This requires some extra dependencies and is optional\n",
    "    pass"
   ]
  },
  {
   "cell_type": "markdown",
   "metadata": {},
   "source": [
    "现在让我们运行聊天机器人！\n",
    "\n",
    "**提示：**您可以随时通过输入“quit”、“exit”或“q”退出聊天循环。"
   ]
  },
  {
   "cell_type": "code",
   "execution_count": null,
   "metadata": {},
   "outputs": [
    {
     "name": "stdout",
     "output_type": "stream",
     "text": [
      "Value: {'messages': [{'role': 'assistant', 'content': '我是Qwen，由阿里云开发的人工智能模型。我被设计用来提供信息查询、语言翻译、创意写作等多种语言服务。很高兴能为你提供帮助！'}]}\n",
      "Value: {'messages': [{'role': 'assistant', 'content': '当然可以！我可以帮助你进行以下任务：\\n\\n1. **信息查询**：提供各种领域的知识，包括但不限于科技、文化、历史、地理等。\\n2. **语言翻译**：帮助你将文本从一种语言翻译成另一种语言。\\n3. **写作辅助**：提供文章构思、润色修改、创作故事或剧本等帮助。\\n4. **学习辅导**：解答学习中遇到的问题，提供学习资料推荐等。\\n5. **日常生活建议**：提供旅行建议、健康饮食建议、生活小技巧等。\\n6. **编程和代码帮助**：提供编程问题解答，代码调试等帮助。\\n7. **心理支持**：提供心理咨询服务，倾听你的困扰并给出建议。\\n\\n请告诉我你需要什么帮助，我会尽力为你提供支持。'}]}\n",
      "Goodbye!\n"
     ]
    }
   ],
   "source": [
    "# def stream_graph_updates(user_input: str):\n",
    "#     for event in graph.stream({\"messages\": [{\"role\": \"user\", \"content\": user_input}]}):\n",
    "#         for value in event.values():\n",
    "#             print(\"Assistant:\", value[\"messages\"][-1].content)\n",
    "\n",
    "def stream_graph_updates(user_input: str):\n",
    "    for event in graph.stream({\"messages\": [{\"role\": \"user\", \"content\": user_input}]}):\n",
    "        # print(\"Event:\", event)  # 打印事件内容\n",
    "        for value in event.values():\n",
    "            print(\"Value:\", value)  # 打印值\n",
    "            if \"messages\" in value and len(value[\"messages\"]) > 0:\n",
    "                last_message = value[\"messages\"][-1]\n",
    "                if hasattr(last_message, \"content\"):\n",
    "                    print(\"Assistant:\", last_message.content)\n",
    "\n",
    "\n",
    "while True:\n",
    "    try:\n",
    "        user_input = input(\"User: \")\n",
    "        if user_input.lower() in [\"quit\", \"exit\", \"q\"]:\n",
    "            print(\"Goodbye!\")\n",
    "            break\n",
    "\n",
    "        stream_graph_updates(user_input)\n",
    "    except:\n",
    "        # fallback if input() is not available\n",
    "        user_input = \"What do you know about LangGraph?\"\n",
    "        print(\"User: \" + user_input)\n",
    "        stream_graph_updates(user_input)\n",
    "        break"
   ]
  },
  {
   "cell_type": "code",
   "execution_count": null,
   "metadata": {},
   "outputs": [],
   "source": []
  }
 ],
 "metadata": {
  "kernelspec": {
   "display_name": "langgraph",
   "language": "python",
   "name": "python3"
  },
  "language_info": {
   "codemirror_mode": {
    "name": "ipython",
    "version": 3
   },
   "file_extension": ".py",
   "mimetype": "text/x-python",
   "name": "python",
   "nbconvert_exporter": "python",
   "pygments_lexer": "ipython3",
   "version": "3.12.9"
  }
 },
 "nbformat": 4,
 "nbformat_minor": 2
}
