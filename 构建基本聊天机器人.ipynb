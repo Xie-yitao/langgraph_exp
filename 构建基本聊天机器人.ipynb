{
 "cells": [
  {
   "cell_type": "markdown",
   "metadata": {},
   "source": [
    "# 构建基本聊天机器人"
   ]
  },
  {
   "cell_type": "markdown",
   "metadata": {},
   "source": [
    "### 安装所需的软件包并配置您的环境"
   ]
  },
  {
   "cell_type": "code",
   "execution_count": 1,
   "metadata": {},
   "outputs": [],
   "source": [
    "# %%capture --no-stderr\n",
    "# %pip install -U langgraph langsmith langchain_anthropic"
   ]
  },
  {
   "cell_type": "markdown",
   "metadata": {},
   "source": [
    "首先创建一个StateGraph。StateGraph对象将我们的聊天机器人的结构定义为“状态机”。我们将添加nodes以表示我们的聊天机器人可以调用的 llm 和函数，并edges指定机器人应如何在这些函数之间转换。"
   ]
  },
  {
   "cell_type": "markdown",
   "metadata": {},
   "source": [
    "我们的图表现在可以处理两个关键任务：\n",
    "\n",
    "1、每个都node可以接收当前State作为输入并输出状态更新。\n",
    "\n",
    "2、messages由于语法add_messages中使用了预建函数，更新将被附加到现有列表而不是覆盖它。Annotated"
   ]
  },
  {
   "cell_type": "code",
   "execution_count": 2,
   "metadata": {},
   "outputs": [],
   "source": [
    "from typing import Annotated\n",
    "\n",
    "from typing_extensions import TypedDict\n",
    "\n",
    "from langgraph.graph import StateGraph, START, END\n",
    "from langgraph.graph.message import add_messages\n",
    "\n",
    "\n",
    "class State(TypedDict):\n",
    "    # Messages have the type \"list\". The `add_messages` function\n",
    "    # in the annotation defines how this state key should be updated\n",
    "    # (in this case, it appends messages to the list, rather than overwriting them)\n",
    "    messages: Annotated[list, add_messages]\n",
    "\n",
    "\n",
    "graph_builder = StateGraph(State)"
   ]
  },
  {
   "cell_type": "markdown",
   "metadata": {},
   "source": [
    "接下来，添加一个“ chatbot”节点。节点代表工作单元。它们通常是常规的 Python 函数。"
   ]
  },
  {
   "cell_type": "markdown",
   "metadata": {},
   "source": [
    "**注意**\n",
    "节点函数如何chatbot将当前State作为输入并返回一个包含messages键“messages”下更新列表的字典。这是所有 LangGraph 节点函数的基本模式。\n",
    "\n",
    "add_messages我们的函数会将Statellm 的响应消息附加到状态中已有的任何消息中。"
   ]
  },
  {
   "cell_type": "code",
   "execution_count": 3,
   "metadata": {},
   "outputs": [
    {
     "name": "stderr",
     "output_type": "stream",
     "text": [
      "/tmp/ipykernel_50925/2058395297.py:20: LangChainDeprecationWarning: The class `Ollama` was deprecated in LangChain 0.3.1 and will be removed in 1.0.0. An updated version of the class exists in the :class:`~langchain-ollama package and should be used instead. To use it run `pip install -U :class:`~langchain-ollama` and import as `from :class:`~langchain_ollama import OllamaLLM``.\n",
      "  llm = Ollama(\n"
     ]
    },
    {
     "data": {
      "text/plain": [
       "<langgraph.graph.state.StateGraph at 0x7fb2f81a3400>"
      ]
     },
     "execution_count": 3,
     "metadata": {},
     "output_type": "execute_result"
    }
   ],
   "source": [
    "# from langchain_anthropic import ChatAnthropic\n",
    "\n",
    "# llm = ChatAnthropic(model=\"claude-3-5-sonnet-20240620\")\n",
    "\n",
    "\n",
    "# def chatbot(state: State):\n",
    "#     return {\"messages\": [llm.invoke(state[\"messages\"])]}\n",
    "\n",
    "\n",
    "# # The first argument is the unique node name\n",
    "# # The second argument is the function or object that will be called whenever\n",
    "# # the node is used.\n",
    "# graph_builder.add_node(\"chatbot\", chatbot)\n",
    "\n",
    "from langchain.llms import Ollama  # 请确保安装了 langchain-ollama 扩展\n",
    "# from langgraph.builder import GraphBuilder\n",
    "# from ... import State  # 假设这是你的 State 类定义路径\n",
    "\n",
    "# 创建 Ollama 模型实例\n",
    "llm = Ollama(\n",
    "    base_url=\"http://10.10.14.3:11434\",\n",
    "    model=\"deepseek-r1:32b\",  # 替换为你的 Ollama 模型名称\n",
    ")\n",
    "\n",
    "def chatbot(state: State):\n",
    "    # 调用 Ollama 模型并返回生成的内容\n",
    "    return {\"messages\": [llm.invoke(state[\"messages\"])]}\n",
    "\n",
    "\n",
    "# 添加 chatbot 节点\n",
    "graph_builder.add_node(\"chatbot\", chatbot)"
   ]
  },
  {
   "cell_type": "markdown",
   "metadata": {},
   "source": [
    "接下来，添加一个entry点。这将告诉我们的图表每次运行时**从哪里开始工作。**"
   ]
  },
  {
   "cell_type": "code",
   "execution_count": 4,
   "metadata": {},
   "outputs": [
    {
     "data": {
      "text/plain": [
       "<langgraph.graph.state.StateGraph at 0x7fb2f81a3400>"
      ]
     },
     "execution_count": 4,
     "metadata": {},
     "output_type": "execute_result"
    }
   ],
   "source": [
    "graph_builder.add_edge(START, \"chatbot\")"
   ]
  },
  {
   "cell_type": "markdown",
   "metadata": {},
   "source": [
    "同样，设置一个finish点。这将指示图表“任何时候运行此节点，您都可以退出。”"
   ]
  },
  {
   "cell_type": "code",
   "execution_count": 5,
   "metadata": {},
   "outputs": [
    {
     "data": {
      "text/plain": [
       "<langgraph.graph.state.StateGraph at 0x7fb2f81a3400>"
      ]
     },
     "execution_count": 5,
     "metadata": {},
     "output_type": "execute_result"
    }
   ],
   "source": [
    "graph_builder.add_edge(\"chatbot\", END)"
   ]
  },
  {
   "cell_type": "markdown",
   "metadata": {},
   "source": [
    "最后，我们希望能够运行我们的图表。为此，请compile()在图表构建器上调用“”。这将创建一个“ CompiledGraph”，我们可以在状态上使用“调用”。"
   ]
  },
  {
   "cell_type": "code",
   "execution_count": 6,
   "metadata": {},
   "outputs": [],
   "source": [
    "graph = graph_builder.compile()"
   ]
  },
  {
   "cell_type": "markdown",
   "metadata": {},
   "source": [
    "get_graph您可以使用方法和其中一种“绘制”方法（例如draw_ascii或）来可视化图形draw_png。draw每个方法都需要额外的依赖项。"
   ]
  },
  {
   "cell_type": "code",
   "execution_count": 7,
   "metadata": {},
   "outputs": [],
   "source": [
    "from IPython.display import Image, display\n",
    "\n",
    "try:\n",
    "    display(Image(graph.get_graph().draw_mermaid_png()))\n",
    "except Exception:\n",
    "    # This requires some extra dependencies and is optional\n",
    "    pass"
   ]
  },
  {
   "cell_type": "markdown",
   "metadata": {},
   "source": [
    "现在让我们运行聊天机器人！\n",
    "\n",
    "**提示：**您可以随时通过输入“quit”、“exit”或“q”退出聊天循环。"
   ]
  },
  {
   "cell_type": "code",
   "execution_count": 8,
   "metadata": {},
   "outputs": [
    {
     "name": "stdout",
     "output_type": "stream",
     "text": [
      "Event: {'chatbot': {'messages': ['<think>\\n\\n</think>\\n\\n啦啦啦啦啦！好像在唱歌呢，你是在分享一首歌的歌词吗？还是想聊点什么？😊']}}\n",
      "Value: {'messages': ['<think>\\n\\n</think>\\n\\n啦啦啦啦啦！好像在唱歌呢，你是在分享一首歌的歌词吗？还是想聊点什么？😊']}\n",
      "Goodbye!\n"
     ]
    }
   ],
   "source": [
    "# def stream_graph_updates(user_input: str):\n",
    "#     for event in graph.stream({\"messages\": [{\"role\": \"user\", \"content\": user_input}]}):\n",
    "#         for value in event.values():\n",
    "#             print(\"Assistant:\", value[\"messages\"][-1].content)\n",
    "\n",
    "def stream_graph_updates(user_input: str):\n",
    "    for event in graph.stream({\"messages\": [{\"role\": \"user\", \"content\": user_input}]}):\n",
    "        print(\"Event:\", event)  # 打印事件内容\n",
    "        for value in event.values():\n",
    "            print(\"Value:\", value)  # 打印值\n",
    "            if \"messages\" in value and len(value[\"messages\"]) > 0:\n",
    "                last_message = value[\"messages\"][-1]\n",
    "                if hasattr(last_message, \"content\"):\n",
    "                    print(\"Assistant:\", last_message.content)\n",
    "\n",
    "\n",
    "while True:\n",
    "    try:\n",
    "        user_input = input(\"User: \")\n",
    "        if user_input.lower() in [\"quit\", \"exit\", \"q\"]:\n",
    "            print(\"Goodbye!\")\n",
    "            break\n",
    "\n",
    "        stream_graph_updates(user_input)\n",
    "    except:\n",
    "        # fallback if input() is not available\n",
    "        user_input = \"What do you know about LangGraph?\"\n",
    "        print(\"User: \" + user_input)\n",
    "        stream_graph_updates(user_input)\n",
    "        break"
   ]
  },
  {
   "cell_type": "code",
   "execution_count": null,
   "metadata": {},
   "outputs": [],
   "source": []
  }
 ],
 "metadata": {
  "kernelspec": {
   "display_name": "langchain",
   "language": "python",
   "name": "python3"
  },
  "language_info": {
   "codemirror_mode": {
    "name": "ipython",
    "version": 3
   },
   "file_extension": ".py",
   "mimetype": "text/x-python",
   "name": "python",
   "nbconvert_exporter": "python",
   "pygments_lexer": "ipython3",
   "version": "3.11.11"
  }
 },
 "nbformat": 4,
 "nbformat_minor": 2
}
